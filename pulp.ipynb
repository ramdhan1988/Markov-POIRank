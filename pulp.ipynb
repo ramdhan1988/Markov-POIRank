{
 "cells": [
  {
   "cell_type": "code",
   "execution_count": 1,
   "metadata": {},
   "outputs": [
    {
     "data": {
      "text/plain": [
       "['GLPK_CMD',\n",
       " 'PYGLPK',\n",
       " 'CPLEX_CMD',\n",
       " 'CPLEX_PY',\n",
       " 'GUROBI',\n",
       " 'GUROBI_CMD',\n",
       " 'MOSEK',\n",
       " 'XPRESS',\n",
       " 'XPRESS',\n",
       " 'XPRESS_PY',\n",
       " 'PULP_CBC_CMD',\n",
       " 'COIN_CMD',\n",
       " 'COINMP_DLL',\n",
       " 'CHOCO_CMD',\n",
       " 'MIPCL_CMD',\n",
       " 'SCIP_CMD',\n",
       " 'FSCIP_CMD',\n",
       " 'SCIP_PY',\n",
       " 'HiGHS',\n",
       " 'HiGHS_CMD',\n",
       " 'COPT',\n",
       " 'COPT_DLL',\n",
       " 'COPT_CMD']"
      ]
     },
     "execution_count": 1,
     "metadata": {},
     "output_type": "execute_result"
    }
   ],
   "source": [
    "import pulp\n",
    "solver_list = pulp.listSolvers()\n",
    "solver_list"
   ]
  },
  {
   "cell_type": "code",
   "execution_count": 3,
   "metadata": {},
   "outputs": [
    {
     "data": {
      "text/plain": [
       "['GUROBI_CMD', 'PULP_CBC_CMD']"
      ]
     },
     "execution_count": 3,
     "metadata": {},
     "output_type": "execute_result"
    }
   ],
   "source": [
    "solver_list = pulp.listSolvers(onlyAvailable=True)\n",
    "solver_list"
   ]
  }
 ],
 "metadata": {
  "kernelspec": {
   "display_name": ".venv",
   "language": "python",
   "name": "python3"
  },
  "language_info": {
   "codemirror_mode": {
    "name": "ipython",
    "version": 3
   },
   "file_extension": ".py",
   "mimetype": "text/x-python",
   "name": "python",
   "nbconvert_exporter": "python",
   "pygments_lexer": "ipython3",
   "version": "3.9.12"
  }
 },
 "nbformat": 4,
 "nbformat_minor": 2
}
